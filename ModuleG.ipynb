{
  "nbformat": 4,
  "nbformat_minor": 0,
  "metadata": {
    "colab": {
      "provenance": [],
      "authorship_tag": "ABX9TyOkwjlcMgrvKNZFlXUGMJXr",
      "include_colab_link": true
    },
    "kernelspec": {
      "name": "python3",
      "display_name": "Python 3"
    },
    "language_info": {
      "name": "python"
    }
  },
  "cells": [
    {
      "cell_type": "markdown",
      "metadata": {
        "id": "view-in-github",
        "colab_type": "text"
      },
      "source": [
        "<a href=\"https://colab.research.google.com/github/logs123/MAT421/blob/main/ModuleG.ipynb\" target=\"_parent\"><img src=\"https://colab.research.google.com/assets/colab-badge.svg\" alt=\"Open In Colab\"/></a>"
      ]
    },
    {
      "cell_type": "markdown",
      "source": [
        "# **Chapter 21. Numerical Integration**"
      ],
      "metadata": {
        "id": "it_3fAgzYKdk"
      }
    },
    {
      "cell_type": "markdown",
      "source": [
        "### **21.1 Numerical Integration Problem Statement**"
      ],
      "metadata": {
        "id": "JJW62vkaYNez"
      }
    },
    {
      "cell_type": "markdown",
      "source": [
        "Given a function f(x), we want to approximate the integral of f(x) over the total **interval**, [a,b]."
      ],
      "metadata": {
        "id": "sFfnjVdAYhSP"
      }
    },
    {
      "cell_type": "code",
      "source": [
        "# Approximate the integral of \\int_0^1 x^4dx.\n",
        "\n",
        "import numpy as np\n",
        "\n",
        "a = 0\n",
        "b = 1\n",
        "\n",
        "x = np.arange(a,b+0.001,0.001)\n",
        "approx = (b-a) * np.mean(x**4)\n",
        "\n",
        "print(approx)"
      ],
      "metadata": {
        "colab": {
          "base_uri": "https://localhost:8080/"
        },
        "id": "S9WLSJeEonNk",
        "outputId": "597a4774-289b-4e74-c29e-9a872316a57a"
      },
      "execution_count": 6,
      "outputs": [
        {
          "output_type": "stream",
          "name": "stdout",
          "text": [
            "0.2003000333\n"
          ]
        }
      ]
    },
    {
      "cell_type": "markdown",
      "source": [
        "### **21.2 Riemann's Integral**"
      ],
      "metadata": {
        "id": "DUawBItdYRAE"
      }
    },
    {
      "cell_type": "markdown",
      "source": [
        "The **Riemann Integral** appoximation is given by ∫_{a}^b f(x)dx ≈ ∑_{i=0}^{n-1} hf(x_i) or ∫_{a}^b f(x)dx ≈ ∑_{i=1}^n hf(x_i)."
      ],
      "metadata": {
        "id": "MZZCsEeuYhqt"
      }
    },
    {
      "cell_type": "markdown",
      "source": [
        "The Midpoint Rule takes the recctangle heigh of the rectangle at each subinterval to be the function value at the midpoint between x_i and x_{i+1}, which for compactness we deonte by y_i=(x_{i+1}+x_i)/2."
      ],
      "metadata": {
        "id": "MHpMDD3YhPm9"
      }
    },
    {
      "cell_type": "code",
      "source": [
        "# Use the left Riemann Integral, right Riemann Integral, and Midpoint Rule to approximate \\int_0^{pi} sin(x)dx with 11 evenly spaced gird points over the whole interval.\n",
        "\n",
        "import numpy as np\n",
        "\n",
        "a = 0\n",
        "b = np.pi\n",
        "n = 11\n",
        "h = (b - a) / (n - 1)\n",
        "x = np.linspace(a, b, n)\n",
        "f = np.sin(x)\n",
        "\n",
        "I_riemannL = h * sum(f[:n-1])\n",
        "err_riemannL = 2 - I_riemannL\n",
        "\n",
        "I_riemannR = h * sum(f[1::])\n",
        "err_riemannR = 2 - I_riemannR\n",
        "\n",
        "I_mid = h * sum(np.sin((x[:n-1] \\\n",
        "        + x[1:])/2))\n",
        "err_mid = 2 - I_mid\n",
        "\n",
        "print(I_riemannL)\n",
        "print(err_riemannL)\n",
        "\n",
        "print(I_riemannR)\n",
        "print(err_riemannR)\n",
        "\n",
        "print(I_mid)\n",
        "print(err_mid)"
      ],
      "metadata": {
        "colab": {
          "base_uri": "https://localhost:8080/"
        },
        "id": "tH-HyrkKjxBf",
        "outputId": "f8fd7c14-fd82-4093-b41d-b8a78cb33393"
      },
      "execution_count": 2,
      "outputs": [
        {
          "output_type": "stream",
          "name": "stdout",
          "text": [
            "1.9835235375094546\n",
            "0.01647646249054535\n",
            "1.9835235375094546\n",
            "0.01647646249054535\n",
            "2.0082484079079745\n",
            "-0.008248407907974542\n"
          ]
        }
      ]
    },
    {
      "cell_type": "markdown",
      "source": [
        "### **21.3 Trapezoid Rule**"
      ],
      "metadata": {
        "id": "Ubu7L2lIYWF2"
      }
    },
    {
      "cell_type": "markdown",
      "source": [
        "The **Trapezoid Rule** fits a trapezoid into each subinterval and sums the areas of the trapezoid to approximate the total integral."
      ],
      "metadata": {
        "id": "1sglKp4CYiEe"
      }
    },
    {
      "cell_type": "code",
      "source": [
        "# Use the Trapezoid Rule to approximate \\int_0^{pi} sin(x)dx with 11 evenly spaced gird points over the whole interval.\n",
        "\n",
        "import numpy as np\n",
        "\n",
        "a = 0\n",
        "b = np.pi\n",
        "n = 11\n",
        "h = (b - a) / (n - 1)\n",
        "x = np.linspace(a, b, n)\n",
        "f = np.sin(x)\n",
        "\n",
        "I_trap = (h/2)*(f[0] + \\\n",
        "          2 * sum(f[1:n-1]) + f[n-1])\n",
        "err_trap = 2 - I_trap\n",
        "\n",
        "print(I_trap)\n",
        "print(err_trap)"
      ],
      "metadata": {
        "colab": {
          "base_uri": "https://localhost:8080/"
        },
        "id": "n6TCURzgm7zz",
        "outputId": "9dda7b57-d28c-476d-89f1-e26cef40e739"
      },
      "execution_count": 3,
      "outputs": [
        {
          "output_type": "stream",
          "name": "stdout",
          "text": [
            "1.9835235375094546\n",
            "0.01647646249054535\n"
          ]
        }
      ]
    }
  ]
}