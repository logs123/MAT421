{
  "nbformat": 4,
  "nbformat_minor": 0,
  "metadata": {
    "colab": {
      "provenance": [],
      "authorship_tag": "ABX9TyNlIwHV7JI1hvrB2RRNDejo",
      "include_colab_link": true
    },
    "kernelspec": {
      "name": "python3",
      "display_name": "Python 3"
    },
    "language_info": {
      "name": "python"
    }
  },
  "cells": [
    {
      "cell_type": "markdown",
      "metadata": {
        "id": "view-in-github",
        "colab_type": "text"
      },
      "source": [
        "<a href=\"https://colab.research.google.com/github/logs123/MAT421/blob/main/ModuleA.ipynb\" target=\"_parent\"><img src=\"https://colab.research.google.com/assets/colab-badge.svg\" alt=\"Open In Colab\"/></a>"
      ]
    },
    {
      "cell_type": "markdown",
      "source": [
        "# **Chapter 9. Representation of Numbers**"
      ],
      "metadata": {
        "id": "MNMHVldYd6Rz"
      }
    },
    {
      "cell_type": "markdown",
      "source": [
        "### **9.1 Base-N and Binary**"
      ],
      "metadata": {
        "id": "Sqjr_tY3eIBt"
      }
    },
    {
      "cell_type": "markdown",
      "source": [
        "The **decimal system** represents numbers by a list of digits from 0-9, where each digit represents the coefficient for a power of 10."
      ],
      "metadata": {
        "id": "a8ZdlBhlhcs_"
      }
    },
    {
      "cell_type": "markdown",
      "source": [
        "**Binary numbers** are represented only by the digis 0 and 1."
      ],
      "metadata": {
        "id": "fb5cz_9I5P2_"
      }
    },
    {
      "cell_type": "markdown",
      "source": [
        "Binary number digits are called a **bit**."
      ],
      "metadata": {
        "id": "v1V1i5eR5ese"
      }
    },
    {
      "cell_type": "code",
      "source": [
        "# Show the decimal expansion for 147.3.\n",
        "147.3 == 1*(10**2) + 4*(10**1) + 7*(10**0) + 3*(10**-1)"
      ],
      "metadata": {
        "colab": {
          "base_uri": "https://localhost:8080/"
        },
        "id": "qWvQIUJRFOPD",
        "outputId": "1a2a30c6-46bb-4df0-9db7-1cdfb8a32bde"
      },
      "execution_count": 18,
      "outputs": [
        {
          "output_type": "execute_result",
          "data": {
            "text/plain": [
              "True"
            ]
          },
          "metadata": {},
          "execution_count": 18
        }
      ]
    },
    {
      "cell_type": "code",
      "source": [
        "# Convert the number 11 (base10) into binary.\n",
        "1*(10**1) + 1*(10**0) == 1*(2**3) + 1*(2**1) + 1*(2**0)"
      ],
      "metadata": {
        "colab": {
          "base_uri": "https://localhost:8080/",
          "height": 37
        },
        "id": "xTxMKSVfFh-z",
        "outputId": "6a8829c5-e2e9-41cb-915c-3e6668396bf4"
      },
      "execution_count": 20,
      "outputs": [
        {
          "output_type": "execute_result",
          "data": {
            "text/plain": [
              "'0b1011'"
            ],
            "application/vnd.google.colaboratory.intrinsic+json": {
              "type": "string"
            }
          },
          "metadata": {},
          "execution_count": 20
        }
      ]
    },
    {
      "cell_type": "code",
      "source": [
        "# Convert 37 (base10) and 17 (base10) to binary.\n",
        "3*(10**1) + 7*(10**0) == 1*(2**5) + 1*(2**2) + 1*(2**0)\n",
        "1*(10**1) + 7*(10**0) == 1*(2**4) + 1*(2**0)\n",
        "\n",
        "# Add and multiply the resulting numbers in binary.\n",
        "3*(10**1) + 7*(10**0) + 1*(10**1) + 7*(10**0) == 1*(2**5) + 1*(2**2) + 1*(2**0) + 1*(2**4) + 1*(2**0)\n",
        "(3*(10**1) + 7*(10**0)) * (1*(10**1) + 7*(10**0)) == (1*(2**5) + 1*(2**2) + 1*(2**0)) * (1*(2**4) + 1*(2**0))"
      ],
      "metadata": {
        "colab": {
          "base_uri": "https://localhost:8080/"
        },
        "id": "GUw60M7tGL_C",
        "outputId": "a356ad4f-e2a2-4fc2-8673-3b826d1b5118"
      },
      "execution_count": 33,
      "outputs": [
        {
          "output_type": "execute_result",
          "data": {
            "text/plain": [
              "True"
            ]
          },
          "metadata": {},
          "execution_count": 33
        }
      ]
    },
    {
      "cell_type": "markdown",
      "source": [
        "### **9.2 Floating Point Numbers**"
      ],
      "metadata": {
        "id": "SQgvFe5QeNcD"
      }
    },
    {
      "cell_type": "markdown",
      "source": [
        "**Floating point** numbers are used to achieve the range of values needed with the same number of bits. There are 3 parts: the sign indicator (positive or negative), the exponent (power of 2), and the fraction (the coefficient of the exponent)."
      ],
      "metadata": {
        "id": "Ncr1Y-454nSp"
      }
    },
    {
      "cell_type": "markdown",
      "source": [
        "**IEEE754** is the standard for floating point arithmetic."
      ],
      "metadata": {
        "id": "4Aaqg0sO_Qfa"
      }
    },
    {
      "cell_type": "code",
      "source": [
        "import numpy as np\n",
        "# The gap is the distance from one number to the next.\n",
        "np.spacing(1e9)"
      ],
      "metadata": {
        "colab": {
          "base_uri": "https://localhost:8080/"
        },
        "id": "i2khuMtM-_TK",
        "outputId": "0585783a-3782-4db0-ec0d-e554a8d1c543"
      },
      "execution_count": 39,
      "outputs": [
        {
          "output_type": "execute_result",
          "data": {
            "text/plain": [
              "1.1920928955078125e-07"
            ]
          },
          "metadata": {},
          "execution_count": 39
        }
      ]
    },
    {
      "cell_type": "markdown",
      "source": [
        "### **9.3 Round-off Errors**"
      ],
      "metadata": {
        "id": "XOfN-vzQePfl"
      }
    },
    {
      "cell_type": "markdown",
      "source": [
        "A **round-off error** is the difference between an approximation of a number and its true value."
      ],
      "metadata": {
        "id": "AuAC4Or1-sAS"
      }
    },
    {
      "cell_type": "code",
      "source": [
        "# The floating point cannot be represented by the exact number.\n",
        "4.9 - 4.845 == 0.055"
      ],
      "metadata": {
        "colab": {
          "base_uri": "https://localhost:8080/"
        },
        "id": "yL-hMbO8K0zk",
        "outputId": "7e05279c-57c7-4511-a8de-479cb54f64fd"
      },
      "execution_count": 37,
      "outputs": [
        {
          "output_type": "execute_result",
          "data": {
            "text/plain": [
              "False"
            ]
          },
          "metadata": {},
          "execution_count": 37
        }
      ]
    },
    {
      "cell_type": "code",
      "source": [
        "4.9 - 4.845"
      ],
      "metadata": {
        "colab": {
          "base_uri": "https://localhost:8080/"
        },
        "id": "vvkfXA71KiTv",
        "outputId": "f4a1aabf-a70f-481d-fe90-408516e6333a"
      },
      "execution_count": 35,
      "outputs": [
        {
          "output_type": "execute_result",
          "data": {
            "text/plain": [
              "0.055000000000000604"
            ]
          },
          "metadata": {},
          "execution_count": 35
        }
      ]
    },
    {
      "cell_type": "code",
      "source": [
        "4.8 - 4.845"
      ],
      "metadata": {
        "colab": {
          "base_uri": "https://localhost:8080/"
        },
        "id": "pYTxRbteKtOY",
        "outputId": "0cb95b4c-d1ef-42ec-a072-3f3d06e427fe"
      },
      "execution_count": 36,
      "outputs": [
        {
          "output_type": "execute_result",
          "data": {
            "text/plain": [
              "-0.04499999999999993"
            ]
          },
          "metadata": {},
          "execution_count": 36
        }
      ]
    },
    {
      "cell_type": "code",
      "source": [
        "# Utilize the round function for post-rounding comparisons.\n",
        "round(0.1 + 0.2 + 0.3, 5) == round(0.6, 5)"
      ],
      "metadata": {
        "colab": {
          "base_uri": "https://localhost:8080/"
        },
        "id": "7_za4fisLQHb",
        "outputId": "05354b8f-0b21-4695-d9ad-93103f4b88a9"
      },
      "execution_count": 38,
      "outputs": [
        {
          "output_type": "execute_result",
          "data": {
            "text/plain": [
              "True"
            ]
          },
          "metadata": {},
          "execution_count": 38
        }
      ]
    }
  ]
}