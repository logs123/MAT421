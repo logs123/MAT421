{
  "nbformat": 4,
  "nbformat_minor": 0,
  "metadata": {
    "colab": {
      "provenance": [],
      "authorship_tag": "ABX9TyO7yiCgZee/5NrIOo1CCYRr",
      "include_colab_link": true
    },
    "kernelspec": {
      "name": "python3",
      "display_name": "Python 3"
    },
    "language_info": {
      "name": "python"
    }
  },
  "cells": [
    {
      "cell_type": "markdown",
      "metadata": {
        "id": "view-in-github",
        "colab_type": "text"
      },
      "source": [
        "<a href=\"https://colab.research.google.com/github/logs123/MAT421/blob/main/ModuleD.ipynb\" target=\"_parent\"><img src=\"https://colab.research.google.com/assets/colab-badge.svg\" alt=\"Open In Colab\"/></a>"
      ]
    },
    {
      "cell_type": "markdown",
      "source": [
        "# **Chapter 14. Linear Algebra and Systems of Linear Equations**"
      ],
      "metadata": {
        "id": "SVL3-rpzZnji"
      }
    },
    {
      "cell_type": "markdown",
      "source": [
        "### **14.1 Basics of Linear Algebra**"
      ],
      "metadata": {
        "id": "bkNdPhJWZ2Hr"
      }
    },
    {
      "cell_type": "markdown",
      "source": [
        "A **set** is a collection of objects. The **empty set** is the set containing to no objects. The **union** of two sets is all the elements that belong to both sets. The **intersect** of two sets is such elements contained in both sets."
      ],
      "metadata": {
        "id": "um9WJ6OOad2R"
      }
    },
    {
      "cell_type": "code",
      "source": [
        "# Let S be the set of all real (x,y) pairs such that x^2+y^2=1. Write S using set notation.\n",
        "\n",
        "# S={(x,y):x,y \\in \\mathbb{R}, x^2y^2=1}"
      ],
      "metadata": {
        "id": "gb0i-uo5a9sI"
      },
      "execution_count": 2,
      "outputs": []
    },
    {
      "cell_type": "markdown",
      "source": [
        "A vector in R^n is an n-tuple in R^n. A vector written horizontally is a **row vector**, and a vector written vertically is a **column vector**. The **zero vector** is the vector in R^n containing all zeros. The **norm** of a vector is a measure of its length."
      ],
      "metadata": {
        "id": "huxksMRRbP-S"
      }
    },
    {
      "cell_type": "code",
      "source": [
        "# Create a row vector and column vector, and show the shape of the vectors.\n",
        "\n",
        "import numpy as np\n",
        "vector_row = np.array([[1, -5, 3, 2, 4]])\n",
        "vector_column = np.array([[1], \n",
        "                          [2], \n",
        "                          [3], \n",
        "                          [4]])\n",
        "print(vector_row.shape)\n",
        "print(vector_column.shape)"
      ],
      "metadata": {
        "colab": {
          "base_uri": "https://localhost:8080/"
        },
        "id": "EojXYqiWbpT0",
        "outputId": "c9910105-a1a8-4119-ef20-590167144aa0"
      },
      "execution_count": 3,
      "outputs": [
        {
          "output_type": "stream",
          "name": "stdout",
          "text": [
            "(1, 5)\n",
            "(4, 1)\n"
          ]
        }
      ]
    },
    {
      "cell_type": "markdown",
      "source": [
        "An **m x n matrix** is a rectangular table of numbers consisting of m rows and n columns.\n",
        "\n",
        "A **square matrix** is an n x n matrix. The **detemrinant** is denoted by det(M)."
      ],
      "metadata": {
        "id": "q7HjrmNreXdm"
      }
    },
    {
      "cell_type": "markdown",
      "source": [
        "### **14.2 Linear Transformations**"
      ],
      "metadata": {
        "id": "_l_j1_pOZ7Wf"
      }
    },
    {
      "cell_type": "markdown",
      "source": [
        "A **linear transofrmation** is a function, F, such that F(ax + by) = aF(x) + bF(y), for vectors x and y, and scalars a and b."
      ],
      "metadata": {
        "id": "J2N3Izy1du5Z"
      }
    },
    {
      "cell_type": "code",
      "source": [
        "# Let x be a vector and let F(x) be defined by F(x)=Ax where A is a rectangular matrix of appropriate size. Show that F(x) is a linear transformation.\n",
        "\n",
        "# Since F(x)=Ax, then for vectors v,w, and scalars a,b, F(av + bw) = A(av + bw) = aAv + bAw = aF(v) + bF(w)."
      ],
      "metadata": {
        "id": "39EisGm5d76M"
      },
      "execution_count": null,
      "outputs": []
    },
    {
      "cell_type": "markdown",
      "source": [
        "### **14.3 Systems of Linear Equations**"
      ],
      "metadata": {
        "id": "zqCkpAqhZ9hF"
      }
    },
    {
      "cell_type": "markdown",
      "source": [
        "A **linear equation** is an equality of the form ∑^n_{i=1}(a_ix_i)=y, where a_i are scalars, x_i are unknown variables in \\mathbb{R}, and y is a scalar.\n",
        "\n",
        "A **system of linear equations** is a set of linear equations that share the same variables.\n",
        "\n",
        "The **matrix form** of a system of linear equations is Ax=y where A is a mxn matrix, A(i,j)=a_{i,j}, y is a vector in \\mathbb{R}^m, and x is an unknown vector in \\mathbb{R}^n."
      ],
      "metadata": {
        "id": "Yxh5eIDRcihy"
      }
    },
    {
      "cell_type": "code",
      "source": [
        "# Determine which of the following equations is linear and which is not.\n",
        "\n",
        "# 1. 3x_1 + 4x_2 - 3 = -5x_3\n",
        "# 2. \\frac{-x_1+x_2}{x_3} = 2\n",
        "# 3. x_1x_2 + x_3 = 5\n",
        "\n",
        "# Eq 1 is linear (3x_1 + 4x_2+ 5x_3 = 3).\n",
        "# Eq 2 is not linear.\n",
        "# Eq 3 is not linear."
      ],
      "metadata": {
        "id": "I-6OXRcZdUjV"
      },
      "execution_count": null,
      "outputs": []
    }
  ]
}