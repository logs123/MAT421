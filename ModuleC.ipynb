{
  "nbformat": 4,
  "nbformat_minor": 0,
  "metadata": {
    "colab": {
      "provenance": [],
      "authorship_tag": "ABX9TyO70/UqI2EiSkHO45jccfRn",
      "include_colab_link": true
    },
    "kernelspec": {
      "name": "python3",
      "display_name": "Python 3"
    },
    "language_info": {
      "name": "python"
    }
  },
  "cells": [
    {
      "cell_type": "markdown",
      "metadata": {
        "id": "view-in-github",
        "colab_type": "text"
      },
      "source": [
        "<a href=\"https://colab.research.google.com/github/logs123/MAT421/blob/main/ModuleC.ipynb\" target=\"_parent\"><img src=\"https://colab.research.google.com/assets/colab-badge.svg\" alt=\"Open In Colab\"/></a>"
      ]
    },
    {
      "cell_type": "markdown",
      "source": [
        "# **Chapter 19. Root Finding**"
      ],
      "metadata": {
        "id": "9L3YpzujBPdA"
      }
    },
    {
      "cell_type": "markdown",
      "source": [
        "### **19.1 Root Finding Problem Statement**"
      ],
      "metadata": {
        "id": "uAgxYXacBsh8"
      }
    },
    {
      "cell_type": "markdown",
      "source": [
        "The **root** or **zero** of a function is an x_r such that f(x_r)=0. Some functions do not have an **analytic**, or exact, solution."
      ],
      "metadata": {
        "id": "u9lBekppJaX4"
      }
    },
    {
      "cell_type": "code",
      "source": [
        "# Compute the root of f(x)=cos(x)-x near -2.\n",
        "import numpy as np\n",
        "from scipy import optimize\n",
        "\n",
        "f = lambda x: np.cos(x) - x\n",
        "r = optimize.fsolve(f, -2)\n",
        "print(\"r =\", r)\n",
        "\n",
        "result = f(r)\n",
        "print(\"result=\", result)"
      ],
      "metadata": {
        "colab": {
          "base_uri": "https://localhost:8080/"
        },
        "id": "fK4zidsUKwKf",
        "outputId": "ec03cc75-0b35-40b5-ebe9-10828c790c6e"
      },
      "execution_count": 1,
      "outputs": [
        {
          "output_type": "stream",
          "name": "stdout",
          "text": [
            "r = [0.73908513]\n",
            "result= [0.]\n"
          ]
        }
      ]
    },
    {
      "cell_type": "code",
      "source": [
        "# Try to compute the root of f(x)=1/x\n",
        "f = lambda x: 1/x\n",
        "\n",
        "r, infodict, ier, mesg = optimize.fsolve(f, -2, full_output=True)\n",
        "print(\"r =\", r)\n",
        "\n",
        "result = f(r)\n",
        "print(\"result=\", result)\n",
        "\n",
        "print(mesg)"
      ],
      "metadata": {
        "colab": {
          "base_uri": "https://localhost:8080/"
        },
        "id": "KIcZX94xL0pB",
        "outputId": "be20cabd-8bf4-4843-f8de-95bb1b0935c0"
      },
      "execution_count": 2,
      "outputs": [
        {
          "output_type": "stream",
          "name": "stdout",
          "text": [
            "r = [-3.52047359e+83]\n",
            "result= [-2.84052692e-84]\n",
            "The number of calls to function has reached maxfev = 400.\n"
          ]
        }
      ]
    },
    {
      "cell_type": "markdown",
      "source": [
        "### **19.2 Tolerance**"
      ],
      "metadata": {
        "id": "oREls5HVBzYf"
      }
    },
    {
      "cell_type": "markdown",
      "source": [
        "The deviation from an expected value is **error**. **Tolerance** is the level of error that is acceptaable for an engineering application. When a computer program has found a solution with an error smaller thant the tolerance, it has **converged**."
      ],
      "metadata": {
        "id": "8sy0oA9hMAmY"
      }
    },
    {
      "cell_type": "code",
      "source": [
        "# Let error be measured by e=|f(x)| nad tol be the acceptable level of error. For f(x)=x^2+tol/2, |f(0)|=tol/2 and is acceptable."
      ],
      "metadata": {
        "id": "bFC1mASkNgUi"
      },
      "execution_count": null,
      "outputs": []
    },
    {
      "cell_type": "markdown",
      "source": [
        "### **19.3 Bisection Method**"
      ],
      "metadata": {
        "id": "hRcY6OtpB6hh"
      }
    },
    {
      "cell_type": "markdown",
      "source": [
        "The **Intermediate Value Theorem** says that if f(x) is a continuous funciton between a and b, and sign(f(a))!=sign(f(b)), then there must be a c, such that a<c<b and f(c)=0."
      ],
      "metadata": {
        "id": "9OA9gggWOQTT"
      }
    },
    {
      "cell_type": "markdown",
      "source": [
        "The **bisection method** uses the intermediate value theorem iteratively to find roots."
      ],
      "metadata": {
        "id": "7Do_EmxzOhM0"
      }
    },
    {
      "cell_type": "code",
      "source": [
        "# Program a function that approximates a root r of f, bounded by a and b to within |f(a+b/2)|<tol\n",
        "\n",
        "import numpy as np\n",
        "\n",
        "def my_bisection(f, a, b, tol):\n",
        "    if np.sign(f(a)) == np.sign(f(b)):\n",
        "        raise Exception(\"The scalars a and b do not bound a root\")\n",
        "    m = (a + b)/2\n",
        "    \n",
        "    if np.abs(f(m)) < tol:\n",
        "        return m\n",
        "    elif np.sign(f(a)) == np.sign(f(m)):\n",
        "        return my_bisection(f, m, b, tol)\n",
        "    elif np.sign(f(b)) == np.sign(f(m)):\n",
        "        return my_bisection(f, a, m, tol)"
      ],
      "metadata": {
        "id": "y4O15lrQQAKO"
      },
      "execution_count": 3,
      "outputs": []
    },
    {
      "cell_type": "markdown",
      "source": [
        "### **19.4 Newton-Raphson Method**"
      ],
      "metadata": {
        "id": "U8ga1jd-B_xv"
      }
    },
    {
      "cell_type": "markdown",
      "source": [
        "The **Newton-Raphson Method** of finding roots iterates Newton steps from x_0 until the error is less than the tolerance."
      ],
      "metadata": {
        "id": "zviDe3noQelb"
      }
    },
    {
      "cell_type": "code",
      "source": [
        "# Write a function where the output is an estimation of the foot of f.\n",
        "\n",
        "def my_newton(f, df, x0, tol):\n",
        "    if abs(f(x0)) < tol:\n",
        "        return x0\n",
        "    else:\n",
        "        return my_newton(f, df, x0 - f(x0)/df(x0), tol)"
      ],
      "metadata": {
        "id": "ntdUKdS0QvG-"
      },
      "execution_count": 5,
      "outputs": []
    },
    {
      "cell_type": "markdown",
      "source": [
        "### **19.5 Root Finding in Python**"
      ],
      "metadata": {
        "id": "hZjq--oECIt3"
      }
    },
    {
      "cell_type": "markdown",
      "source": [
        "The f_solve function can be used to find the root."
      ],
      "metadata": {
        "id": "70StHplTQxZD"
      }
    },
    {
      "cell_type": "code",
      "source": [
        "from scipy.optimize import fsolve\n",
        "f = lambda x: x**3-100*x**2-x+100\n",
        "\n",
        "fsolve(f, [2, 80])"
      ],
      "metadata": {
        "colab": {
          "base_uri": "https://localhost:8080/"
        },
        "id": "wWl2qi3ZRj8L",
        "outputId": "a535dda8-b67c-4d61-dc9d-8bacf6e402da"
      },
      "execution_count": 4,
      "outputs": [
        {
          "output_type": "execute_result",
          "data": {
            "text/plain": [
              "array([  1., 100.])"
            ]
          },
          "metadata": {},
          "execution_count": 4
        }
      ]
    }
  ]
}